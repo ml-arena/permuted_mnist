{
 "cells": [
  {
   "cell_type": "code",
   "execution_count": 3,
   "id": "a4d5bdc8-5cb3-4ee2-a133-ffff956f66da",
   "metadata": {},
   "outputs": [],
   "source": [
    "import gymnasium as gym\n",
    "import numpy as np\n",
    "import permuted_mnist "
   ]
  },
  {
   "cell_type": "code",
   "execution_count": 4,
   "id": "8903fa6d-3fc9-4d4c-8520-cbb67975b272",
   "metadata": {},
   "outputs": [],
   "source": [
    "import torch\n",
    "import torch.nn as nn\n",
    "import torch.optim as optim\n",
    "import numpy as np\n",
    "from gymnasium.wrappers import TimeLimit\n",
    "\n",
    "class MNISTLogisticRegression(nn.Module):\n",
    "    def __init__(self, input_size=784):  # 28x28 = 784 pixels per image\n",
    "        super().__init__()\n",
    "        self.flatten = nn.Flatten()\n",
    "        # Logistic regression is effectively a linear layer followed by softmax\n",
    "        self.logistic = nn.Sequential(\n",
    "            nn.Linear(input_size, 10),  # 10 classes (digits 0-9)\n",
    "            nn.LogSoftmax(dim=1)  # Log softmax for numerical stability\n",
    "        )\n",
    "        \n",
    "    def forward(self, x):\n",
    "        x = self.flatten(x)\n",
    "        return self.logistic(x)\n",
    "\n",
    "class Agent:\n",
    "    def __init__(self, env, player_name=None):\n",
    "        self.env = env\n",
    "        # Unwrap TimeLimit to get to the base environment\n",
    "        while isinstance(self.env, TimeLimit):\n",
    "            self.env = self.env.env\n",
    "            \n",
    "        # Get dimensions from the environment\n",
    "        self.train_size = 70000\n",
    "        self.test_size = 12000\n",
    "        self.img_size = 28      # MNIST image size\n",
    "        \n",
    "        # Initialize shapes\n",
    "        self.train_images_shape = (self.train_size, self.img_size, self.img_size)\n",
    "        self.train_labels_shape = (self.train_size,)\n",
    "        self.test_images_shape = (self.test_size, self.img_size, self.img_size)\n",
    "        \n",
    "        # Initialize logistic regression model\n",
    "        self.model = MNISTLogisticRegression()\n",
    "        self.criterion = nn.NLLLoss()\n",
    "        self.optimizer = optim.Adam(self.model.parameters(), lr=0.001)\n",
    "        \n",
    "    def train(self, X_train, y_tain):\n",
    "        # Extract and process data\n",
    "        # train_images, train_labels, test_images = self._extract_data(observation)\n",
    "        \n",
    "        # Convert to PyTorch tensors\n",
    "        train_images = torch.FloatTensor(X_train)\n",
    "        train_labels = torch.LongTensor(y_tain)\n",
    "        \n",
    "        # Train the model\n",
    "        self.model.train()\n",
    "        for _ in range(5):  # Multiple epochs per step\n",
    "            self.optimizer.zero_grad()\n",
    "            output = self.model(train_images)\n",
    "            loss = self.criterion(output, train_labels)\n",
    "            loss.backward()\n",
    "            self.optimizer.step()\n",
    "\n",
    "    def predict(self, X_test):\n",
    "        test_images = torch.FloatTensor(X_test)\n",
    "        # Predict test labels\n",
    "        self.model.eval()\n",
    "        with torch.no_grad():\n",
    "            test_output = self.model(test_images)\n",
    "            predictions = test_output.argmax(dim=1).numpy()\n",
    "            \n",
    "        return predictions"
   ]
  },
  {
   "cell_type": "code",
   "execution_count": 6,
   "id": "33a72b29-bd35-4254-b0fe-774b73dc4609",
   "metadata": {
    "scrolled": true
   },
   "outputs": [
    {
     "name": "stdout",
     "output_type": "stream",
     "text": [
      "init permuted_mnist env\n",
      "loading mnist data\n",
      "train_images loaded\n",
      "train_labels loaded\n",
      "test_images loaded\n",
      "creating observation space\n",
      "observation space created\n",
      "resetting env\n",
      "permutations created\n",
      "datasets shuffled\n",
      "labels permuted\n",
      "pixels permuted\n",
      "pixels permuted\n",
      "getting obs\n"
     ]
    },
    {
     "name": "stderr",
     "output_type": "stream",
     "text": [
      "/home/raphael/.cache/pypoetry/virtualenvs/reinforcement-learning-challenge--oFFEaLP-py3.12/lib/python3.12/site-packages/gymnasium/utils/passive_env_checker.py:134: UserWarning: \u001b[33mWARN: The obs returned by the `reset()` method was expecting numpy array dtype to be uint8, actual type: int64\u001b[0m\n",
      "  logger.warn(\n",
      "/home/raphael/.cache/pypoetry/virtualenvs/reinforcement-learning-challenge--oFFEaLP-py3.12/lib/python3.12/site-packages/gymnasium/utils/passive_env_checker.py:158: UserWarning: \u001b[33mWARN: The obs returned by the `reset()` method is not within the observation space.\u001b[0m\n",
      "  logger.warn(f\"{pre} is not within the observation space.\")\n"
     ]
    },
    {
     "name": "stdout",
     "output_type": "stream",
     "text": [
      "stepping env\n",
      "getting obs\n"
     ]
    },
    {
     "name": "stderr",
     "output_type": "stream",
     "text": [
      "/home/raphael/.cache/pypoetry/virtualenvs/reinforcement-learning-challenge--oFFEaLP-py3.12/lib/python3.12/site-packages/gymnasium/utils/passive_env_checker.py:134: UserWarning: \u001b[33mWARN: The obs returned by the `step()` method was expecting numpy array dtype to be uint8, actual type: int64\u001b[0m\n",
      "  logger.warn(\n",
      "/home/raphael/.cache/pypoetry/virtualenvs/reinforcement-learning-challenge--oFFEaLP-py3.12/lib/python3.12/site-packages/gymnasium/utils/passive_env_checker.py:158: UserWarning: \u001b[33mWARN: The obs returned by the `step()` method is not within the observation space.\u001b[0m\n",
      "  logger.warn(f\"{pre} is not within the observation space.\")\n"
     ]
    },
    {
     "name": "stdout",
     "output_type": "stream",
     "text": [
      "r:0.1001\n",
      "stepping env\n",
      "getting obs\n",
      "r:0.0955\n",
      "stepping env\n",
      "getting obs\n",
      "r:0.1013\n",
      "stepping env\n",
      "getting obs\n",
      "r:0.1029\n",
      "stepping env\n",
      "getting obs\n",
      "r:0.1026\n",
      "stepping env\n",
      "getting obs\n",
      "r:0.1039\n",
      "stepping env\n",
      "getting obs\n",
      "r:0.1055\n",
      "stepping env\n",
      "getting obs\n",
      "r:0.0965\n",
      "stepping env\n",
      "getting obs\n",
      "r:0.0956\n",
      "stepping env\n",
      "getting obs\n",
      "r:0.1059\n"
     ]
    }
   ],
   "source": [
    "\n",
    "# Create the environment\n",
    "env = gym.make('PermutedMNIST-v0', render_mode=\"rgb_array\")\n",
    "\n",
    "terminated = False\n",
    "truncated = False\n",
    "reward = 0\n",
    "\n",
    "agent = Agent(env)\n",
    "step = 0\n",
    "\n",
    "observation, info = env.reset()\n",
    "\n",
    "while not (terminated or truncated):\n",
    "    # Sample random action from action space\n",
    "\n",
    "    agent.train(observation['X_train'], observation['y_train'])\n",
    "\n",
    "    #Y_pred = agent.predict(observation['X_test'])\n",
    "    Y_pred = np.random.randint(0, 10, len(observation['X_test']))\n",
    "    # Step the environment\n",
    "    observation, reward, terminated, truncated, info = env.step(Y_pred)\n",
    "    print(f\"r:{reward}\")\n",
    "    step +=1\n",
    "env.close()"
   ]
  }
 ],
 "metadata": {
  "kernelspec": {
   "display_name": "Python 3 (ipykernel)",
   "language": "python",
   "name": "python3"
  },
  "language_info": {
   "codemirror_mode": {
    "name": "ipython",
    "version": 3
   },
   "file_extension": ".py",
   "mimetype": "text/x-python",
   "name": "python",
   "nbconvert_exporter": "python",
   "pygments_lexer": "ipython3",
   "version": "3.12.3"
  }
 },
 "nbformat": 4,
 "nbformat_minor": 5
}
